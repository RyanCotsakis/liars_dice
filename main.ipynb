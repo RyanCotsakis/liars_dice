{
 "cells": [
  {
   "cell_type": "code",
   "execution_count": 1,
   "id": "869ee266",
   "metadata": {},
   "outputs": [],
   "source": [
    "import numpy as np\n",
    "import torch\n",
    "import torch.nn.functional as F"
   ]
  },
  {
   "cell_type": "code",
   "execution_count": 2,
   "id": "b89f12d3",
   "metadata": {},
   "outputs": [
    {
     "name": "stdout",
     "output_type": "stream",
     "text": [
      "['2' '3' '4' '5' '6' 'L' '22' '33' '44' '55' '66' 'LL' 'D' 'C']\n"
     ]
    }
   ],
   "source": [
    "N_DICE = (1, 1) # tuple (number of dice P1, number of dice P2)\n",
    "\n",
    "class Die():\n",
    "    faces = [\"L\", \"2\", \"3\", \"4\", \"5\", \"6\"] # Llamas first\n",
    "\n",
    "    def __init__(self):\n",
    "        self.roll()\n",
    "    \n",
    "    # roll the die n times and return the result as a list\n",
    "    def roll(self, n=1):\n",
    "        result = np.random.choice(Die.faces, n)\n",
    "        self.result = result[-1]\n",
    "        return result\n",
    "        \n",
    "\n",
    "class Player():\n",
    "    action_space = np.concat(\n",
    "        [[face * i for face in Die.faces] for i in range(1,np.sum(N_DICE) + 1)] +\n",
    "        [[\"L\" * i for i in range(np.sum(N_DICE) + 1, 2 * np.sum(N_DICE) + 1)]] +\n",
    "        [[\"D\", \"C\"]] # doubt or call\n",
    "    )\n",
    "    marked_for_removal = []\n",
    "    for i, el in enumerate(action_space):\n",
    "        if el[0] == \"L\":\n",
    "            if len(el) % 2 == 1:\n",
    "                marked_for_removal.append(i)\n",
    "            else:\n",
    "                action_space[i] = el[:len(el)//2]\n",
    "    action_space = np.delete(action_space, marked_for_removal)\n",
    "    print(action_space)\n",
    "\n",
    "    def __init__(self, player_id):\n",
    "        self.player_id = player_id\n",
    "        self.die = Die()\n",
    "        self.private = self.die.roll(N_DICE[player_id])\n",
    "\n",
    "\n",
    "class Node():\n",
    "    n_nodes = 0\n",
    "    leaves = []\n",
    "\n",
    "    def __init__(self, parent, last_action=None):\n",
    "        self.parent = parent\n",
    "        if parent is None:\n",
    "            self.player = 0 # start with player zero\n",
    "            self.probability = torch.ones([len(Die.faces) ** n for n in N_DICE]) # certain to hit this node\n",
    "            Node.player_logits = [[], []]\n",
    "            Node.n_nodes = 0\n",
    "        else:\n",
    "            self.player = (self.parent.player + 1) % 2\n",
    "            self.probability = None\n",
    "        Node.n_nodes += 1\n",
    "        self.last_action = last_action\n",
    "        self.is_leaf = last_action == \"D\" or last_action == \"C\"\n",
    "        self.children = {} # empty dictionary. Keys are actions and values are Nodes.\n",
    "        if self.is_leaf:\n",
    "            self.logits = None\n",
    "            Node.leaves.append(self)\n",
    "        else:\n",
    "            if last_action is None:\n",
    "                starting_index = 0\n",
    "            else:\n",
    "                starting_index = np.where(Player.action_space == last_action)[0][0] + 1\n",
    "            possible_actions = Player.action_space[starting_index:]\n",
    "            if last_action is None:\n",
    "                possible_actions = np.delete(possible_actions,\n",
    "                                             np.where([x[0] in (\"L\", \"D\", \"C\") for x in possible_actions])[0])\n",
    "            n_actions = len(possible_actions)\n",
    "            n_private = len(Die.faces) ** N_DICE[self.player]\n",
    "\n",
    "            self.logits = torch.randn(n_private, n_actions, requires_grad=True)\n",
    "            Node.player_logits[self.player].append(self.logits)\n",
    "\n",
    "            for action in possible_actions:\n",
    "                self.children[action] = Node(parent=self, last_action=action)\n",
    "    \n",
    "    def propagate_probability(self):\n",
    "        assert self.probability is not None\n",
    "        # the probability is a matrix with rows possible private info of self.player and\n",
    "        # columns possible private info of the opponent. Each entry corresponds to the\n",
    "        # conditional probability of arriving at that node given the private information.\n",
    "        softmaxed = F.softmax(self.logits, dim=-1)\n",
    "        for i, child in enumerate(self.children.values()): # correct order verified.\n",
    "            give_prob = softmaxed[:, i].unsqueeze(1)\n",
    "            child.probability = (give_prob * self.probability).t()\n",
    "            if not child.is_leaf:\n",
    "                child.propagate_probability()\n",
    "        \n",
    "\n",
    "PLAYERS = [Player(i) for i in range(len(N_DICE))]\n",
    "grandfather_node = Node(None)"
   ]
  },
  {
   "cell_type": "code",
   "execution_count": 3,
   "id": "e23da996",
   "metadata": {},
   "outputs": [
    {
     "name": "stdout",
     "output_type": "stream",
     "text": [
      "tensor([[-0.2975,  0.9789,  0.4605, -2.1705],\n",
      "        [ 0.7175, -1.4465, -0.5294,  0.4619],\n",
      "        [-0.4861, -0.0653, -0.4757, -0.3520],\n",
      "        [ 0.0023, -1.7453,  0.1405,  0.0548],\n",
      "        [ 0.2050, -0.3730,  0.8397,  0.4215],\n",
      "        [ 1.5945,  0.9045,  0.9514, -0.0138]], requires_grad=True)\n",
      "12091\n",
      "8060\n",
      "4031\n",
      "[2016, 2015]\n"
     ]
    }
   ],
   "source": [
    "print(grandfather_node.children[\"5\"].children[\"55\"].logits)\n",
    "print(Node.n_nodes)\n",
    "print(len(Node.leaves))\n",
    "print(Node.n_nodes - len(Node.leaves))\n",
    "print([len(x) for x in Node.player_logits])"
   ]
  },
  {
   "cell_type": "code",
   "execution_count": 4,
   "id": "d61c4491",
   "metadata": {},
   "outputs": [
    {
     "name": "stdout",
     "output_type": "stream",
     "text": [
      "None\n",
      "tensor([[4.8727e-14, 7.6791e-16, 2.4611e-14, 1.0148e-16, 2.1000e-13, 2.8977e-15],\n",
      "        [7.8525e-14, 1.2375e-15, 3.9661e-14, 1.6355e-16, 3.3842e-13, 4.6697e-15],\n",
      "        [7.4561e-13, 1.1750e-14, 3.7659e-13, 1.5529e-15, 3.2133e-12, 4.4339e-14],\n",
      "        [1.9067e-12, 3.0049e-14, 9.6303e-13, 3.9712e-15, 8.2174e-12, 1.1339e-13],\n",
      "        [1.3576e-13, 2.1395e-15, 6.8568e-14, 2.8275e-16, 5.8508e-13, 8.0732e-15],\n",
      "        [3.1207e-12, 4.9180e-14, 1.5762e-12, 6.4995e-15, 1.3449e-11, 1.8558e-13]],\n",
      "       grad_fn=<TBackward0>)\n",
      "torch.Size([8060, 6, 6])\n"
     ]
    },
    {
     "data": {
      "text/plain": [
       "tensor([[1.0000, 1.0000, 1.0000, 1.0000, 1.0000, 1.0000],\n",
       "        [1.0000, 1.0000, 1.0000, 1.0000, 1.0000, 1.0000],\n",
       "        [1.0000, 1.0000, 1.0000, 1.0000, 1.0000, 1.0000],\n",
       "        [1.0000, 1.0000, 1.0000, 1.0000, 1.0000, 1.0000],\n",
       "        [1.0000, 1.0000, 1.0000, 1.0000, 1.0000, 1.0000],\n",
       "        [1.0000, 1.0000, 1.0000, 1.0000, 1.0000, 1.0000]],\n",
       "       grad_fn=<SumBackward1>)"
      ]
     },
     "execution_count": 4,
     "metadata": {},
     "output_type": "execute_result"
    }
   ],
   "source": [
    "print(Node.leaves[0].probability)\n",
    "grandfather_node.propagate_probability()\n",
    "print(Node.leaves[0].probability)\n",
    "\n",
    "stacked = torch.stack([leaf.probability.t() if leaf.player == 1\n",
    "                       else leaf.probability for leaf in Node.leaves], dim=0)\n",
    "\n",
    "print(stacked.shape)\n",
    "torch.sum(stacked, dim=0)\n",
    "\n"
   ]
  },
  {
   "cell_type": "code",
   "execution_count": 5,
   "id": "244ec505",
   "metadata": {},
   "outputs": [
    {
     "name": "stdout",
     "output_type": "stream",
     "text": [
      "tensor([[ 0.7405,  0.7405,  0.7405,  0.7405,  0.7405],\n",
      "        [-0.3204, -0.3204, -0.3204, -0.3204, -0.3204],\n",
      "        [-0.2310, -0.2310, -0.2310, -0.2310, -0.2310],\n",
      "        [ 0.0985,  0.0985,  0.0985,  0.0985,  0.0985]])\n"
     ]
    }
   ],
   "source": [
    "a = torch.randn(4, 1)\n",
    "b = torch.randn(4, 5)\n",
    "a = a.expand((4,5))\n",
    "print(a)\n"
   ]
  },
  {
   "cell_type": "markdown",
   "id": "f3fd2094",
   "metadata": {},
   "source": [
    "### Insights from Von Neuman's work and ChatGPT\n",
    "\n",
    "- At each step, for each player, alternating between them, I should optimize for the probability distribution that maximizes the active player's overall expected probability of winning.\n",
    "- This can be done by computing the expected winning probability of the *entire tree*, and maximizing the probability of the winning leaves by only changing the player's own nodes.\n",
    "\n",
    "Something like this:\n",
    "```python\n",
    "# Optimizers for max (P1) and min (P2)\n",
    "opt_p1 = torch.optim.Adam([p1_logits], lr=1e-1)\n",
    "opt_p2 = torch.optim.Adam([p2_logits], lr=1e-1)\n",
    "\n",
    "for it in range(5000):\n",
    "    # — P1 update (ascent) —\n",
    "    opt_p1.zero_grad()\n",
    "    ev = expected_payoff()\n",
    "    (-ev).backward(retain_graph=True)   # gradient of –E wrt p1_logits\n",
    "    opt_p1.step()\n",
    "\n",
    "    # — P2 update (descent) —\n",
    "    opt_p2.zero_grad()\n",
    "    ev = expected_payoff()\n",
    "    (ev).backward()                     # gradient of  E wrt p2_logits\n",
    "    opt_p2.step()\n",
    "\n",
    "    if it % 500 == 0:\n",
    "        print(f\"iter {it:4d}   EV ≈ {ev.item(): .4f}\")\n",
    "```"
   ]
  }
 ],
 "metadata": {
  "kernelspec": {
   "display_name": ".venv",
   "language": "python",
   "name": "python3"
  },
  "language_info": {
   "codemirror_mode": {
    "name": "ipython",
    "version": 3
   },
   "file_extension": ".py",
   "mimetype": "text/x-python",
   "name": "python",
   "nbconvert_exporter": "python",
   "pygments_lexer": "ipython3",
   "version": "3.12.5"
  }
 },
 "nbformat": 4,
 "nbformat_minor": 5
}
